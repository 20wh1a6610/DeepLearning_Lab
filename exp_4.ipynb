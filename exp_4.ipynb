{
  "nbformat": 4,
  "nbformat_minor": 0,
  "metadata": {
    "colab": {
      "provenance": [],
      "authorship_tag": "ABX9TyOPoOfLerViy46cvyDxl37X",
      "include_colab_link": true
    },
    "kernelspec": {
      "name": "python3",
      "display_name": "Python 3"
    },
    "language_info": {
      "name": "python"
    }
  },
  "cells": [
    {
      "cell_type": "markdown",
      "metadata": {
        "id": "view-in-github",
        "colab_type": "text"
      },
      "source": [
        "<a href=\"https://colab.research.google.com/github/20wh1a6610/DeepLearning_Lab/blob/main/exp_4.ipynb\" target=\"_parent\"><img src=\"https://colab.research.google.com/assets/colab-badge.svg\" alt=\"Open In Colab\"/></a>"
      ]
    },
    {
      "cell_type": "code",
      "execution_count": null,
      "metadata": {
        "colab": {
          "base_uri": "https://localhost:8080/"
        },
        "id": "Si7VTyqF5a8i",
        "outputId": "0268243f-dbc0-434b-e9e1-e3c38653d5a2"
      },
      "outputs": [
        {
          "output_type": "stream",
          "name": "stdout",
          "text": [
            "Downloading data from https://storage.googleapis.com/tensorflow/tf-keras-datasets/mnist.npz\n",
            "11490434/11490434 [==============================] - 0s 0us/step\n",
            "x_train shape: (60000, 28, 28, 1)\n",
            "60000 train samples\n",
            "10000 test samples\n",
            "Epoch 1/20\n",
            "235/235 [==============================] - 15s 55ms/step - loss: 0.6706 - accuracy: 0.8298 - val_loss: 0.3319 - val_accuracy: 0.9056\n",
            "Epoch 2/20\n",
            "235/235 [==============================] - 10s 44ms/step - loss: 0.2977 - accuracy: 0.9141 - val_loss: 0.2814 - val_accuracy: 0.9173\n",
            "Epoch 3/20\n",
            "235/235 [==============================] - 7s 31ms/step - loss: 0.2548 - accuracy: 0.9280 - val_loss: 0.2539 - val_accuracy: 0.9261\n",
            "Epoch 4/20\n",
            "235/235 [==============================] - 12s 50ms/step - loss: 0.2287 - accuracy: 0.9342 - val_loss: 0.2308 - val_accuracy: 0.9325\n",
            "Epoch 5/20\n",
            "235/235 [==============================] - 9s 37ms/step - loss: 0.2075 - accuracy: 0.9407 - val_loss: 0.2146 - val_accuracy: 0.9381\n",
            "Epoch 6/20\n",
            "235/235 [==============================] - 10s 44ms/step - loss: 0.1903 - accuracy: 0.9448 - val_loss: 0.2009 - val_accuracy: 0.9412\n",
            "Epoch 7/20\n",
            "235/235 [==============================] - 7s 31ms/step - loss: 0.1724 - accuracy: 0.9511 - val_loss: 0.1914 - val_accuracy: 0.9432\n",
            "Epoch 8/20\n",
            "235/235 [==============================] - 9s 36ms/step - loss: 0.1590 - accuracy: 0.9555 - val_loss: 0.1821 - val_accuracy: 0.9465\n",
            "Epoch 9/20\n",
            "235/235 [==============================] - 8s 36ms/step - loss: 0.1466 - accuracy: 0.9584 - val_loss: 0.1648 - val_accuracy: 0.9520\n",
            "Epoch 10/20\n",
            "235/235 [==============================] - 7s 31ms/step - loss: 0.1336 - accuracy: 0.9631 - val_loss: 0.1579 - val_accuracy: 0.9534\n",
            "Epoch 11/20\n",
            "235/235 [==============================] - 9s 38ms/step - loss: 0.1239 - accuracy: 0.9657 - val_loss: 0.1488 - val_accuracy: 0.9576\n",
            "Epoch 12/20\n",
            "235/235 [==============================] - 9s 38ms/step - loss: 0.1148 - accuracy: 0.9674 - val_loss: 0.1446 - val_accuracy: 0.9587\n",
            "Epoch 13/20\n",
            "235/235 [==============================] - 8s 33ms/step - loss: 0.1072 - accuracy: 0.9699 - val_loss: 0.1364 - val_accuracy: 0.9617\n",
            "Epoch 14/20\n",
            "235/235 [==============================] - 9s 36ms/step - loss: 0.1014 - accuracy: 0.9724 - val_loss: 0.1336 - val_accuracy: 0.9618\n",
            "Epoch 15/20\n",
            "235/235 [==============================] - 7s 31ms/step - loss: 0.0951 - accuracy: 0.9740 - val_loss: 0.1290 - val_accuracy: 0.9626\n",
            "Epoch 16/20\n",
            "235/235 [==============================] - 9s 37ms/step - loss: 0.0898 - accuracy: 0.9753 - val_loss: 0.1267 - val_accuracy: 0.9639\n",
            "Epoch 17/20\n",
            "235/235 [==============================] - 9s 37ms/step - loss: 0.0851 - accuracy: 0.9763 - val_loss: 0.1214 - val_accuracy: 0.9653\n",
            "Epoch 18/20\n",
            "235/235 [==============================] - 7s 31ms/step - loss: 0.0809 - accuracy: 0.9776 - val_loss: 0.1196 - val_accuracy: 0.9651\n",
            "Epoch 19/20\n",
            "235/235 [==============================] - 9s 37ms/step - loss: 0.0767 - accuracy: 0.9783 - val_loss: 0.1196 - val_accuracy: 0.9656\n",
            "Epoch 20/20\n",
            "235/235 [==============================] - 10s 44ms/step - loss: 0.0722 - accuracy: 0.9801 - val_loss: 0.1193 - val_accuracy: 0.9648\n",
            "test loss: 0.1029207855463028\n",
            "test accuracy: 0.9674999713897705\n"
          ]
        }
      ],
      "source": [
        "from tensorflow import keras\n",
        "from tensorflow.keras import datasets, layers, models\n",
        "from tensorflow.keras.utils import to_categorical\n",
        "import matplotlib.pyplot as plt\n",
        "import numpy as np\n",
        "(train_images, train_labels), (test_images, test_labels) = datasets.mnist.load_data()\n",
        "train_images, test_images = train_images/255.0, test_images/255.0\n",
        "train_images = np.expand_dims(train_images, axis=3)\n",
        "test_images = np.expand_dims(test_images, axis=3)\n",
        "test_labels = to_categorical(test_labels)\n",
        "train_labels = to_categorical(train_labels)\n",
        "print(\"x_train shape:\", train_images.shape)\n",
        "print(train_images.shape[0], \"train samples\")\n",
        "print(test_images.shape[0], \"test samples\")\n",
        "num_classes = 10\n",
        "input_shape = (28, 28, 1)\n",
        "num_filters = 8\n",
        "filter_size =3\n",
        "pool_size = 2\n",
        "model = keras.Sequential([layers.Conv2D(num_filters, filter_size,input_shape =(28, 28, 1)), layers.MaxPooling2D(pool_size=pool_size),layers.Flatten(),layers.Dense(num_classes, activation = 'softmax'),])\n",
        "model.compile('adam', loss='categorical_crossentropy',metrics =['accuracy'])\n",
        "model.fit(train_images, train_labels, batch_size =128, epochs =20,validation_split =0.5)\n",
        "score = model.evaluate(test_images, test_labels, verbose=0)\n",
        "print(\"test loss:\", score[0])\n",
        "print(\"test accuracy:\", score[1])"
      ]
    }
  ]
}